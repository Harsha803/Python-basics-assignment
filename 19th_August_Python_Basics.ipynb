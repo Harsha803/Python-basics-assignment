{
 "cells": [
  {
   "cell_type": "markdown",
   "id": "c8bf54c0",
   "metadata": {},
   "source": [
    "# Python Basics Variable"
   ]
  },
  {
   "cell_type": "code",
   "execution_count": 1,
   "id": "1cdef60a",
   "metadata": {},
   "outputs": [],
   "source": [
    "#1. Declare two variables, `x` and `y`, and assign them integer values. Swap the \n",
    "#values of these variables without using any temporary variable."
   ]
  },
  {
   "cell_type": "code",
   "execution_count": 2,
   "id": "86f49840",
   "metadata": {},
   "outputs": [
    {
     "name": "stdout",
     "output_type": "stream",
     "text": [
      "before swap x = 10,y = 20\n",
      "after swap x = 20,y = 10\n"
     ]
    }
   ],
   "source": [
    "x = 10 \n",
    "y = 20\n",
    "print(\"before swap x = %d,y = %d\"%(x,y))\n",
    "x = x+y\n",
    "y = x-y\n",
    "x = x-y\n",
    "print(\"after swap x = %d,y = %d\"%(x,y))"
   ]
  },
  {
   "cell_type": "code",
   "execution_count": 3,
   "id": "5fec127a",
   "metadata": {},
   "outputs": [],
   "source": [
    "#Create a program that calculates the area of a rectangle. Take the length and\n",
    "#width as inputs from the user and store them in variables. Calculate and display the area."
   ]
  },
  {
   "cell_type": "code",
   "execution_count": 4,
   "id": "b6aa79fe",
   "metadata": {},
   "outputs": [
    {
     "name": "stdout",
     "output_type": "stream",
     "text": [
      "Area of rectangle  200\n"
     ]
    }
   ],
   "source": [
    "l = 10\n",
    "b = 20\n",
    "area = l*b\n",
    "print(\"Area of rectangle \",area)"
   ]
  },
  {
   "cell_type": "code",
   "execution_count": 5,
   "id": "4d9db4c8",
   "metadata": {},
   "outputs": [],
   "source": [
    "#Write a Python program that converts temperatures from Celsius to\n",
    "#Fahrenheit. Take the temperature in Celsius as input, store it in a variable,\n",
    "#convert it to Fahrenheit, and display the result."
   ]
  },
  {
   "cell_type": "code",
   "execution_count": 6,
   "id": "3cbe387a",
   "metadata": {},
   "outputs": [
    {
     "name": "stdout",
     "output_type": "stream",
     "text": [
      "temperature of '45.0' in farenheit is 113.0\n"
     ]
    }
   ],
   "source": [
    "c = 45.0\n",
    "#converting to farenheit \n",
    "F = (c*1.8)+32 #formulae\n",
    "print(\"temperature of '%0.1f' in farenheit is %0.1f\"%(c,F))"
   ]
  },
  {
   "cell_type": "markdown",
   "id": "fe34792b",
   "metadata": {},
   "source": [
    "# String Based Questions"
   ]
  },
  {
   "cell_type": "code",
   "execution_count": 7,
   "id": "8193fe33",
   "metadata": {},
   "outputs": [],
   "source": [
    "#1. Write a Python program that takes a string as input and prints the length of the string."
   ]
  },
  {
   "cell_type": "code",
   "execution_count": 8,
   "id": "ee9e9956",
   "metadata": {},
   "outputs": [
    {
     "name": "stdout",
     "output_type": "stream",
     "text": [
      "the length of the string is 6\n"
     ]
    }
   ],
   "source": [
    "a = 'Harsha'\n",
    "print(\"the length of the string is\",len(a))"
   ]
  },
  {
   "cell_type": "code",
   "execution_count": 9,
   "id": "4edb2b25",
   "metadata": {},
   "outputs": [],
   "source": [
    "#2. Create a program that takes a sentence from the user and counts the number of vowels (a, e, i, o, u) in the string."
   ]
  },
  {
   "cell_type": "code",
   "execution_count": 10,
   "id": "49f34de1",
   "metadata": {},
   "outputs": [
    {
     "name": "stdout",
     "output_type": "stream",
     "text": [
      "Enter a sentence :Ram is a good boy and a very enthusiastic person\n",
      "a 5\n",
      "e 3\n",
      "i 3\n",
      "o 4\n",
      "u 1\n"
     ]
    }
   ],
   "source": [
    "s = input('Enter a sentence :')\n",
    "vowels = \"aeiou\"\n",
    "for i in vowels:\n",
    "    print(i,s.count(i))"
   ]
  },
  {
   "cell_type": "code",
   "execution_count": 11,
   "id": "0a9c3278",
   "metadata": {},
   "outputs": [],
   "source": [
    "#3. Given a string, reverse the order of characters using string slicing and print the reversed string."
   ]
  },
  {
   "cell_type": "code",
   "execution_count": 12,
   "id": "7435804e",
   "metadata": {},
   "outputs": [
    {
     "name": "stdout",
     "output_type": "stream",
     "text": [
      "the reversed string is norueni\n"
     ]
    }
   ],
   "source": [
    "s = 'ineuron'\n",
    "rs= s[::-1] \n",
    "print(\"the reversed string is\",rs)"
   ]
  },
  {
   "cell_type": "code",
   "execution_count": 13,
   "id": "ba354683",
   "metadata": {},
   "outputs": [],
   "source": [
    "#4. Write a program that takes a string as input and checks if it is a palindrome (reads the same forwards and backwards)."
   ]
  },
  {
   "cell_type": "code",
   "execution_count": 14,
   "id": "56736be2",
   "metadata": {},
   "outputs": [
    {
     "name": "stdout",
     "output_type": "stream",
     "text": [
      "Enter a string : madam\n",
      "the given string is palindrome\n"
     ]
    }
   ],
   "source": [
    "def ispalindrome(s):\n",
    "    return s == s[::-1]\n",
    "s = input('Enter a string : ')\n",
    "if  ispalindrome(s):\n",
    "    print('the given string is palindrome')\n",
    "else:\n",
    "    print('the given string is not a palindrome')"
   ]
  },
  {
   "cell_type": "code",
   "execution_count": 15,
   "id": "f448f337",
   "metadata": {},
   "outputs": [],
   "source": [
    "#5. Create a program that takes a string as input and removes all the spaces from it.\n",
    "#Print the modified string without spaces."
   ]
  },
  {
   "cell_type": "code",
   "execution_count": 16,
   "id": "75510d9e",
   "metadata": {},
   "outputs": [
    {
     "name": "stdout",
     "output_type": "stream",
     "text": [
      "Enter a string : ram is a good boy\n",
      "ramisagoodboy\n"
     ]
    }
   ],
   "source": [
    "s = input(\"Enter a string : \")\n",
    "ms = \"\".join(s.split())\n",
    "print(ms)"
   ]
  },
  {
   "cell_type": "code",
   "execution_count": 17,
   "id": "fe916341",
   "metadata": {},
   "outputs": [
    {
     "name": "stdout",
     "output_type": "stream",
     "text": [
      "Enter a string : ram is a bad boy\n",
      "ramisabadboy\n"
     ]
    }
   ],
   "source": [
    "#Another way to remove duplicate spaces\n",
    "s = input(\"Enter a string : \")\n",
    "ms = s.replace(\" \",\"\" )\n",
    "print(ms)"
   ]
  },
  {
   "cell_type": "code",
   "execution_count": null,
   "id": "331e4cb7",
   "metadata": {},
   "outputs": [],
   "source": []
  }
 ],
 "metadata": {
  "kernelspec": {
   "display_name": "Python 3 (ipykernel)",
   "language": "python",
   "name": "python3"
  },
  "language_info": {
   "codemirror_mode": {
    "name": "ipython",
    "version": 3
   },
   "file_extension": ".py",
   "mimetype": "text/x-python",
   "name": "python",
   "nbconvert_exporter": "python",
   "pygments_lexer": "ipython3",
   "version": "3.9.7"
  }
 },
 "nbformat": 4,
 "nbformat_minor": 5
}
